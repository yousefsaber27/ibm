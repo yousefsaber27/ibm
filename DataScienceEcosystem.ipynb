{
 "cells": [
  {
   "cell_type": "markdown",
   "id": "cc10f6ab-35c2-408e-b76e-c062d36c56ff",
   "metadata": {},
   "source": [
    "# Data Science Tools and Ecosystem"
   ]
  },
  {
   "cell_type": "markdown",
   "id": "ed224ead-311e-475f-8898-7efc9e81a9d8",
   "metadata": {},
   "source": [
    "In this notebook, Data Science Tools are summarized."
   ]
  },
  {
   "cell_type": "markdown",
   "id": "80996599-3d2d-4446-ae73-591c46be86ee",
   "metadata": {},
   "source": [
    "**Objectives:**\r\n",
    "\r\n",
    "- List popular languages for Data Science.\r\n",
    "- Introduce key data science libraries in Python.\r\n",
    "- Demonstrate basic arithmetic operations in Python.\r\n",
    "- Illustrate conversion of units in Python.\r\n"
   ]
  },
  {
   "cell_type": "markdown",
   "id": "a9e27c91-b736-48fb-94fa-36510b72966f",
   "metadata": {},
   "source": [
    "Some of the popular languages that Data Scientist use are:(Python, R, Scala)"
   ]
  },
  {
   "cell_type": "markdown",
   "id": "2b2e5e82-3e28-4b52-866e-59f0ac16b246",
   "metadata": {},
   "source": [
    "Some of the most commonly used libraries in Data Science include:(Numpy, Pandas, TensorFlow, Scikit-learn, PyTorch, Matplotlib)"
   ]
  },
  {
   "cell_type": "markdown",
   "id": "e7edb716-9059-4679-9d6e-4a5aee34dc77",
   "metadata": {},
   "source": [
    "| Data Science Tools |\n",
    "|--------------------|\n",
    "| Jupyter Notebook   |\n",
    "| RStudio            |\n",
    "| Spyder             |\n"
   ]
  },
  {
   "cell_type": "markdown",
   "id": "3e112c17-bf08-4aa6-95d6-8311ca6f3876",
   "metadata": {},
   "source": [
    "### Below are a few examples of evaluating arithmetic expressions in Python.\r\n"
   ]
  },
  {
   "cell_type": "code",
   "execution_count": 3,
   "id": "24f00f16-fc3f-4841-b663-e44e96e08209",
   "metadata": {},
   "outputs": [
    {
     "data": {
      "text/plain": [
       "17"
      ]
     },
     "execution_count": 3,
     "metadata": {},
     "output_type": "execute_result"
    }
   ],
   "source": [
    "# This is a simple arithmetic expression to multiply then add integers.\n",
    "result = (3 * 4) + 5\n",
    "result\n"
   ]
  },
  {
   "cell_type": "code",
   "execution_count": 4,
   "id": "ad2f58b1-eafc-49ef-ae73-41459856d146",
   "metadata": {},
   "outputs": [
    {
     "data": {
      "text/plain": [
       "3.3333333333333335"
      ]
     },
     "execution_count": 4,
     "metadata": {},
     "output_type": "execute_result"
    }
   ],
   "source": [
    "# This will convert 200 minutes to hours by dividing by 60.\n",
    "hours = 200 / 60\n",
    "hours\n"
   ]
  },
  {
   "cell_type": "markdown",
   "id": "57c8932d-50a7-4929-a320-ce0b6bc475ac",
   "metadata": {},
   "source": [
    "## Author\n",
    "Yousef Saber"
   ]
  }
 ],
 "metadata": {
  "kernelspec": {
   "display_name": "Python 3 (ipykernel)",
   "language": "python",
   "name": "python3"
  },
  "language_info": {
   "codemirror_mode": {
    "name": "ipython",
    "version": 3
   },
   "file_extension": ".py",
   "mimetype": "text/x-python",
   "name": "python",
   "nbconvert_exporter": "python",
   "pygments_lexer": "ipython3",
   "version": "3.11.7"
  }
 },
 "nbformat": 4,
 "nbformat_minor": 5
}
